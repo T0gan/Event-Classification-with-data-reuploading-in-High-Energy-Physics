{
 "cells": [
  {
   "cell_type": "code",
   "execution_count": 1,
   "id": "armed-commissioner",
   "metadata": {},
   "outputs": [],
   "source": [
    "%matplotlib notebook\n",
    "from mpl_toolkits.mplot3d import Axes3D\n",
    "import matplotlib.pyplot as plt\n",
    "\n",
    "import pandas as pd\n",
    "\n",
    "from sklearn.preprocessing import MinMaxScaler\n",
    "from sklearn.decomposition import  PCA\n",
    "from sklearn.metrics import roc_auc_score\n",
    "\n",
    "import numpy as np"
   ]
  },
  {
   "cell_type": "code",
   "execution_count": 2,
   "id": "personalized-allergy",
   "metadata": {},
   "outputs": [],
   "source": [
    "num_test = 1000\n",
    "\n",
    "label=['signal','lepton 1 pT', 'lepton 1 eta', 'lepton 1 phi', 'lepton 2 pT', 'lepton 2 eta', 'lepton 2 phi', 'missing energy magnitude', 'missing energy phi', 'MET_rel', 'axial MET', 'M_R', 'M_TR_2', 'R', 'MT2', 'S_R', 'M_Delta_R', 'dPhi_r_b', 'cos(theta_r1)']\n",
    "var=['lepton 1 pT','lepton 2 pT','missing energy magnitude']\n",
    "\n",
    "df=pd.read_csv('~/SageMaker/SUSY_cut.csv',nrows=(num_test))\n",
    "\n",
    "\n",
    "\n",
    "Xdata=df[var].to_numpy()\n",
    "Ydata=df['signal'].to_numpy()"
   ]
  },
  {
   "cell_type": "code",
   "execution_count": 3,
   "id": "hidden-layout",
   "metadata": {},
   "outputs": [],
   "source": [
    "min_max_scaler = MinMaxScaler()\n",
    "X_scaled = min_max_scaler.fit_transform(Xdata)\n",
    "\n",
    "X_test=X_scaled[:num_test]\n",
    "y_test=Ydata[:num_test]"
   ]
  },
  {
   "cell_type": "code",
   "execution_count": 8,
   "id": "affiliated-builder",
   "metadata": {},
   "outputs": [],
   "source": [
    "def decimalToBinary(n, length):\n",
    "    binary = bin(n).replace(\"0b\", \"\")\n",
    "    if len(binary) != length:\n",
    "        for i in range(length - len(binary)):\n",
    "            binary = \"0\" + binary\n",
    "\n",
    "    return binary\n",
    "\n",
    "\n",
    "def get_min_fidel(andrei_prob):\n",
    "\n",
    "    andrei_qubit = int(np.log2(len(andrei_prob)))\n",
    "    bit_length = andrei_qubit\n",
    "    qubit_prob = np.zeros((andrei_qubit, 2))\n",
    "\n",
    "\n",
    "    for i in range(len(andrei_prob)):\n",
    "        bit = decimalToBinary(i, bit_length)\n",
    "\n",
    "        for j in range(len(bit)):\n",
    "            qubit_prob[j, int(bit[j])] += andrei_prob[i]\n",
    "    return qubit_prob\n",
    "\n"
   ]
  },
  {
   "cell_type": "code",
   "execution_count": 24,
   "id": "distinct-austria",
   "metadata": {},
   "outputs": [
    {
     "name": "stdout",
     "output_type": "stream",
     "text": [
      "len_fid 1000\n"
     ]
    }
   ],
   "source": [
    "fidel=[]\n",
    "for i in range(100):\n",
    "    \n",
    "    pron=np.loadtxt('Probability_Smart_Runn/andrei_prob_'+str(i)+'.txt')\n",
    "    min_fid=get_min_fidel(pron)\n",
    "    for j in min_fid:\n",
    "        fidel.append(j)\n",
    "print('len_fid',len(fidel))"
   ]
  },
  {
   "cell_type": "code",
   "execution_count": 29,
   "id": "graphic-yahoo",
   "metadata": {},
   "outputs": [],
   "source": [
    "def test(fidel, y, state_labels=None):\n",
    "    \"\"\"\n",
    "    Tests on a given set of data.\n",
    "\n",
    "    Args:\n",
    "        params (array[float]): array of parameters\n",
    "        x (array[float]): 3-d array of input vectors\n",
    "        y (array[float]): 1-d array of targets\n",
    "        state_labels (array[float]): 1-d array of state representations for labels\n",
    "\n",
    "    Returns:\n",
    "        predicted (array([int]): predicted labels for test data\n",
    "        output_states (array[float]): output quantum states from the circuit\n",
    "    \"\"\"\n",
    "    predicted = []\n",
    "    fidelity_values=fidel\n",
    "    for i in fidel:\n",
    "        \n",
    "        best_fidel = np.argmax(i)\n",
    "\n",
    "        predicted.append(best_fidel)\n",
    "        \n",
    "\n",
    "    return np.array(predicted), np.array(fidelity_values)\n",
    "\n",
    "def accuracy_score(y_true, y_pred):\n",
    "    \"\"\"Accuracy score.\n",
    "\n",
    "    Args:\n",
    "        y_true (array[float]): 1-d array of targets\n",
    "        y_predicted (array[float]): 1-d array of predictions\n",
    "        state_labels (array[float]): 1-d array of state representations for labels\n",
    "\n",
    "    Returns:\n",
    "        score (float): the fraction of correctly classified samples\n",
    "    \"\"\"\n",
    "    score = y_true == y_pred\n",
    "    return score.sum() / len(y_true)"
   ]
  },
  {
   "cell_type": "code",
   "execution_count": 30,
   "id": "adjustable-antigua",
   "metadata": {},
   "outputs": [
    {
     "name": "stdout",
     "output_type": "stream",
     "text": [
      "Accuracy:0.572|AUC:0.7780906262768466. \n"
     ]
    }
   ],
   "source": [
    "predicted_test, fidel_test = test(fidel, y_test)\n",
    "accuracy_test = accuracy_score(y_test, predicted_test)\n",
    "AUC=roc_auc_score(y_test,fidel_test[:,1])\n",
    "print(\"Accuracy:{}|AUC:{}. \".format(accuracy_test,AUC))"
   ]
  },
  {
   "cell_type": "code",
   "execution_count": null,
   "id": "naughty-spending",
   "metadata": {},
   "outputs": [],
   "source": []
  }
 ],
 "metadata": {
  "kernelspec": {
   "display_name": "conda_braket",
   "language": "python",
   "name": "conda_braket"
  },
  "language_info": {
   "codemirror_mode": {
    "name": "ipython",
    "version": 3
   },
   "file_extension": ".py",
   "mimetype": "text/x-python",
   "name": "python",
   "nbconvert_exporter": "python",
   "pygments_lexer": "ipython3",
   "version": "3.7.9"
  }
 },
 "nbformat": 4,
 "nbformat_minor": 5
}
